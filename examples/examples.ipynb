{
 "cells": [
  {
   "cell_type": "code",
   "metadata": {
    "ExecuteTime": {
     "end_time": "2024-11-01T09:42:41.011293Z",
     "start_time": "2024-11-01T09:42:40.991015Z"
    }
   },
   "source": [
    "# %xmode Minimal\n",
    "\n",
    "from qadence2_expressions import *"
   ],
   "outputs": [],
   "execution_count": 1
  },
  {
   "cell_type": "markdown",
   "metadata": {},
   "source": [
    "## Basic symbol examples"
   ]
  },
  {
   "cell_type": "code",
   "metadata": {
    "ExecuteTime": {
     "end_time": "2024-11-01T09:42:41.035864Z",
     "start_time": "2024-11-01T09:42:41.029156Z"
    }
   },
   "source": [
    "a = parameter('a')\n",
    "b = parameter('b')\n",
    "\n",
    "exprs = [\n",
    "    \"a + a\",\n",
    "    \"a - a\",\n",
    "    \"a / a\",\n",
    "    \"a + b\",\n",
    "    \"a / (2*b)\",\n",
    "    \"a ** 0\",\n",
    "    \"a ** 1\",\n",
    "    \"2 ** (a + b)\",\n",
    "]\n",
    "\n",
    "for expr in exprs:\n",
    "    print(expr, \"->\", eval(expr))"
   ],
   "outputs": [
    {
     "name": "stdout",
     "output_type": "stream",
     "text": [
      "a + a -> 2.0 * a\n",
      "a - a -> 0.0\n",
      "a / a -> 1.0\n",
      "a + b -> a + b\n",
      "a / (2*b) -> a * (2.0 * b) ^ -1.0\n",
      "a ** 0 -> 1.0\n",
      "a ** 1 -> a\n",
      "2 ** (a + b) -> 2.0 ^ (a + b)\n"
     ]
    }
   ],
   "execution_count": 2
  },
  {
   "cell_type": "markdown",
   "metadata": {},
   "source": [
    "Product of sums is automatically expanded."
   ]
  },
  {
   "cell_type": "code",
   "metadata": {
    "ExecuteTime": {
     "end_time": "2024-11-01T09:42:41.144497Z",
     "start_time": "2024-11-01T09:42:41.141044Z"
    }
   },
   "source": [
    "(a + b) * (a + b)"
   ],
   "outputs": [
    {
     "data": {
      "text/plain": [
       "a ^ 2.0 + 2.0 * a * b + b ^ 2.0"
      ]
     },
     "execution_count": 3,
     "metadata": {},
     "output_type": "execute_result"
    }
   ],
   "execution_count": 3
  },
  {
   "cell_type": "markdown",
   "metadata": {},
   "source": [
    "However, power of sums are not automatically expanded to prioritise simplifications with respect to power."
   ]
  },
  {
   "cell_type": "code",
   "metadata": {
    "ExecuteTime": {
     "end_time": "2024-11-01T09:42:41.167434Z",
     "start_time": "2024-11-01T09:42:41.160955Z"
    }
   },
   "source": [
    "(a + b) * (a + b) ** 2 / (a + b)"
   ],
   "outputs": [
    {
     "data": {
      "text/plain": [
       "(a + b) ^ 2.0"
      ]
     },
     "execution_count": 4,
     "metadata": {},
     "output_type": "execute_result"
    }
   ],
   "execution_count": 4
  },
  {
   "cell_type": "markdown",
   "metadata": {},
   "source": [
    "## Quantum operators"
   ]
  },
  {
   "cell_type": "code",
   "metadata": {
    "ExecuteTime": {
     "end_time": "2024-11-01T09:42:41.208413Z",
     "start_time": "2024-11-01T09:42:41.205194Z"
    }
   },
   "source": [
    "X(2) * Y() * Z(1,2)"
   ],
   "outputs": [
    {
     "data": {
      "text/plain": [
       "X[2] * Y[*] * Z[1,2]"
      ]
     },
     "execution_count": 5,
     "metadata": {},
     "output_type": "execute_result"
    }
   ],
   "execution_count": 5
  },
  {
   "cell_type": "code",
   "metadata": {
    "ExecuteTime": {
     "end_time": "2024-11-01T09:42:41.245103Z",
     "start_time": "2024-11-01T09:42:41.242773Z"
    }
   },
   "source": [
    "# Simple Hermitian operators\n",
    "CZ = unitary_hermitian_operator('CZ')\n",
    "NOT = unitary_hermitian_operator('NOT')"
   ],
   "outputs": [],
   "execution_count": 6
  },
  {
   "cell_type": "code",
   "metadata": {
    "ExecuteTime": {
     "end_time": "2024-11-01T09:42:41.257550Z",
     "start_time": "2024-11-01T09:42:41.254046Z"
    }
   },
   "source": [
    "NOT(control=(1,), target=(2,)) * NOT(target=(1,), control=(2,))"
   ],
   "outputs": [
    {
     "data": {
      "text/plain": [
       "NOT[2|1] * NOT[1|2]"
      ]
     },
     "execution_count": 7,
     "metadata": {},
     "output_type": "execute_result"
    }
   ],
   "execution_count": 7
  },
  {
   "cell_type": "code",
   "metadata": {
    "ExecuteTime": {
     "end_time": "2024-11-01T09:42:41.284448Z",
     "start_time": "2024-11-01T09:42:41.279725Z"
    }
   },
   "source": [
    "X() * (cos(a) * X() + 1j * sin(a) * Y()) / 2"
   ],
   "outputs": [
    {
     "data": {
      "text/plain": [
       "0.5 * cos(a) + 0.5j * sin(a) * X[*] * Y[*]"
      ]
     },
     "execution_count": 8,
     "metadata": {},
     "output_type": "execute_result"
    }
   ],
   "execution_count": 8
  },
  {
   "cell_type": "code",
   "metadata": {
    "ExecuteTime": {
     "end_time": "2024-11-01T09:42:41.312476Z",
     "start_time": "2024-11-01T09:42:41.308866Z"
    }
   },
   "source": [
    "X(1) * (cos(a) * X() + 1j * sin(a) * Y()) * Z(1) / 2"
   ],
   "outputs": [
    {
     "data": {
      "text/plain": [
       "0.5 * cos(a) * X[1] * X[*] * Z[1] + 0.5j * sin(a) * X[1] * Y[*] * Z[1]"
      ]
     },
     "execution_count": 9,
     "metadata": {},
     "output_type": "execute_result"
    }
   ],
   "execution_count": 9
  },
  {
   "cell_type": "code",
   "metadata": {
    "ExecuteTime": {
     "end_time": "2024-11-01T09:42:41.395863Z",
     "start_time": "2024-11-01T09:42:41.391274Z"
    }
   },
   "source": [
    "CNOT = lambda ctrl, tgt: NOT(target=(tgt,), control=(ctrl,))\n",
    "\n",
    "Y(4) * X(3) * Y(5,4) * CNOT(1,2) * Z(3)"
   ],
   "outputs": [
    {
     "data": {
      "text/plain": [
       "NOT[2|1] * X[3] * Z[3] * Y[4] * Y[4,5]"
      ]
     },
     "execution_count": 10,
     "metadata": {},
     "output_type": "execute_result"
    }
   ],
   "execution_count": 10
  },
  {
   "cell_type": "code",
   "metadata": {
    "ExecuteTime": {
     "end_time": "2024-11-01T09:42:41.489702Z",
     "start_time": "2024-11-01T09:42:41.486184Z"
    }
   },
   "source": [
    "n = lambda k: (1 - Z(k)) / 2\n",
    "\n",
    "sum(a * X(i) - b * Z(i) + n(i) * n(i + 1) for i in range(1))"
   ],
   "outputs": [
    {
     "data": {
      "text/plain": [
       "0.25 + a * X[0] - * b * Z[0] - 0.25 * Z[1] - 0.25 * Z[0] + 0.25 * Z[0] * Z[1]"
      ]
     },
     "execution_count": 11,
     "metadata": {},
     "output_type": "execute_result"
    }
   ],
   "execution_count": 11
  },
  {
   "cell_type": "code",
   "metadata": {
    "ExecuteTime": {
     "end_time": "2024-11-01T09:42:41.542329Z",
     "start_time": "2024-11-01T09:42:41.539598Z"
    }
   },
   "source": [
    "phi = variable(\"phi\")\n",
    "\n",
    "RX(phi / 2)(1) * RX(phi / 2)(1).dag"
   ],
   "outputs": [
    {
     "data": {
      "text/plain": [
       "1.0"
      ]
     },
     "execution_count": 12,
     "metadata": {},
     "output_type": "execute_result"
    }
   ],
   "execution_count": 12
  },
  {
   "cell_type": "code",
   "metadata": {
    "ExecuteTime": {
     "end_time": "2024-11-01T09:42:41.592304Z",
     "start_time": "2024-11-01T09:42:41.589340Z"
    }
   },
   "source": [
    "RX(phi / 2)(1) * RX(- phi / 2)(1)"
   ],
   "outputs": [
    {
     "data": {
      "text/plain": [
       "1.0"
      ]
     },
     "execution_count": 13,
     "metadata": {},
     "output_type": "execute_result"
    }
   ],
   "execution_count": 13
  },
  {
   "cell_type": "code",
   "metadata": {
    "ExecuteTime": {
     "end_time": "2024-11-01T09:42:41.648357Z",
     "start_time": "2024-11-01T09:42:41.645778Z"
    }
   },
   "source": [
    "RX(phi / 2)(1) * RX(phi / 2)(2).dag"
   ],
   "outputs": [
    {
     "data": {
      "text/plain": [
       "RX(0.5 * phi)[1] * RX(0.5 * phi)'[2]"
      ]
     },
     "execution_count": 14,
     "metadata": {},
     "output_type": "execute_result"
    }
   ],
   "execution_count": 14
  },
  {
   "metadata": {
    "ExecuteTime": {
     "end_time": "2024-11-01T09:42:52.013696Z",
     "start_time": "2024-11-01T09:42:52.009825Z"
    }
   },
   "cell_type": "code",
   "source": "RX(2 * cos(parameter(\"t\")))(0)",
   "outputs": [
    {
     "data": {
      "text/plain": [
       "RX(2.0 * cos(t))[0]"
      ]
     },
     "execution_count": 19,
     "metadata": {},
     "output_type": "execute_result"
    }
   ],
   "execution_count": 19
  },
  {
   "metadata": {
    "ExecuteTime": {
     "end_time": "2024-11-01T09:44:36.553891Z",
     "start_time": "2024-11-01T09:44:36.549078Z"
    }
   },
   "cell_type": "code",
   "source": [
    "def acos(x):\n",
    "    return function(\"acos\", promote(x))\n",
    "\n",
    "RX(2 * acos(parameter(\"t2\")))(1)\n"
   ],
   "outputs": [
    {
     "data": {
      "text/plain": [
       "'RX(2.0\\u2009*\\u2009acos(t2))[1]'"
      ]
     },
     "execution_count": 21,
     "metadata": {},
     "output_type": "execute_result"
    }
   ],
   "execution_count": 21
  },
  {
   "cell_type": "markdown",
   "metadata": {},
   "source": [
    "## IR compilation"
   ]
  },
  {
   "cell_type": "code",
   "metadata": {
    "ExecuteTime": {
     "end_time": "2024-11-01T09:42:41.729763Z",
     "start_time": "2024-11-01T09:42:41.726008Z"
    }
   },
   "source": [
    "expr = RX(a * phi / 2)(2) * CZ() * RY(b * phi / 2)(0)\n",
    "\n",
    "compile_to_model(expr)"
   ],
   "outputs": [
    {
     "data": {
      "text/plain": [
       "Model(\n",
       "  register=AllocQubits(\n",
       "    num_qubits=3,\n",
       "    qubit_positions=[],\n",
       "    grid_type=None,\n",
       "    grid_scale=1.0,\n",
       "    connectivity={},\n",
       "    options={},\n",
       "  ),\n",
       "  directives={},\n",
       "  settings={},\n",
       "  inputs={\n",
       "    'a': Alloc(1, trainable=False),\n",
       "    'phi': Alloc(1, trainable=True),\n",
       "    'b': Alloc(1, trainable=False),\n",
       "  },\n",
       "  instructions=[\n",
       "    Assign('%0', Call('mul', 0.5, Load('a'))),\n",
       "    Assign('%1', Call('mul', Load('%0'), Load('phi'))),\n",
       "    QuInstruct('rx', Support(target=(2,)), Load('%1')),\n",
       "    QuInstruct('cz', Support.target_all()),\n",
       "    Assign('%2', Call('mul', 0.5, Load('b'))),\n",
       "    Assign('%3', Call('mul', Load('%2'), Load('phi'))),\n",
       "    QuInstruct('ry', Support(target=(0,)), Load('%3')),\n",
       "  ],\n",
       ")"
      ]
     },
     "execution_count": 16,
     "metadata": {},
     "output_type": "execute_result"
    }
   ],
   "execution_count": 16
  },
  {
   "cell_type": "code",
   "metadata": {
    "ExecuteTime": {
     "end_time": "2024-11-01T09:42:41.753831Z",
     "start_time": "2024-11-01T09:42:41.750976Z"
    }
   },
   "source": [
    "set_qubits_positions([(-2, 1), (0, 0), (3, 1)])\n",
    "compile_to_model(expr)"
   ],
   "outputs": [
    {
     "data": {
      "text/plain": [
       "Model(\n",
       "  register=AllocQubits(\n",
       "    num_qubits=3,\n",
       "    qubit_positions=[(-2, 1), (0, 0), (3, 1)],\n",
       "    grid_type=None,\n",
       "    grid_scale=1.0,\n",
       "    connectivity={},\n",
       "    options={},\n",
       "  ),\n",
       "  directives={},\n",
       "  settings={},\n",
       "  inputs={\n",
       "    'a': Alloc(1, trainable=False),\n",
       "    'phi': Alloc(1, trainable=True),\n",
       "    'b': Alloc(1, trainable=False),\n",
       "  },\n",
       "  instructions=[\n",
       "    Assign('%0', Call('mul', 0.5, Load('a'))),\n",
       "    Assign('%1', Call('mul', Load('%0'), Load('phi'))),\n",
       "    QuInstruct('rx', Support(target=(2,)), Load('%1')),\n",
       "    QuInstruct('cz', Support.target_all()),\n",
       "    Assign('%2', Call('mul', 0.5, Load('b'))),\n",
       "    Assign('%3', Call('mul', Load('%2'), Load('phi'))),\n",
       "    QuInstruct('ry', Support(target=(0,)), Load('%3')),\n",
       "  ],\n",
       ")"
      ]
     },
     "execution_count": 17,
     "metadata": {},
     "output_type": "execute_result"
    }
   ],
   "execution_count": 17
  },
  {
   "cell_type": "code",
   "metadata": {
    "ExecuteTime": {
     "end_time": "2024-11-01T09:42:41.870657Z",
     "start_time": "2024-11-01T09:42:41.769416Z"
    }
   },
   "source": [
    "set_qubits_positions([(-1,0), (-1, 1), (1, 0), (1, 1)])\n",
    "set_grid_type(\"triangular\")\n",
    "\n",
    "t = time_variable(\"t\")\n",
    "omega = array_variable(\"omega\", 4)\n",
    "detuning = array_variable(\"detuning\", 3)\n",
    "phase = parameter(\"phase\")\n",
    "\n",
    "expr = (\n",
    "    NativeDrive(t / 2, omega, detuning, phase)()\n",
    "    * FreeEvolution(2.5)()\n",
    "    * NativeDrive(t / 2, omega, -detuning, phase)()\n",
    ")\n",
    "\n",
    "compile_to_model(expr)"
   ],
   "outputs": [
    {
     "ename": "NameError",
     "evalue": "name 'time_variable' is not defined",
     "output_type": "error",
     "traceback": [
      "\u001B[0;31m---------------------------------------------------------------------------\u001B[0m",
      "\u001B[0;31mNameError\u001B[0m                                 Traceback (most recent call last)",
      "Cell \u001B[0;32mIn[18], line 4\u001B[0m\n\u001B[1;32m      1\u001B[0m set_qubits_positions([(\u001B[38;5;241m-\u001B[39m\u001B[38;5;241m1\u001B[39m,\u001B[38;5;241m0\u001B[39m), (\u001B[38;5;241m-\u001B[39m\u001B[38;5;241m1\u001B[39m, \u001B[38;5;241m1\u001B[39m), (\u001B[38;5;241m1\u001B[39m, \u001B[38;5;241m0\u001B[39m), (\u001B[38;5;241m1\u001B[39m, \u001B[38;5;241m1\u001B[39m)])\n\u001B[1;32m      2\u001B[0m set_grid_type(\u001B[38;5;124m\"\u001B[39m\u001B[38;5;124mtriangular\u001B[39m\u001B[38;5;124m\"\u001B[39m)\n\u001B[0;32m----> 4\u001B[0m t \u001B[38;5;241m=\u001B[39m \u001B[43mtime_variable\u001B[49m(\u001B[38;5;124m\"\u001B[39m\u001B[38;5;124mt\u001B[39m\u001B[38;5;124m\"\u001B[39m)\n\u001B[1;32m      5\u001B[0m omega \u001B[38;5;241m=\u001B[39m array_variable(\u001B[38;5;124m\"\u001B[39m\u001B[38;5;124momega\u001B[39m\u001B[38;5;124m\"\u001B[39m, \u001B[38;5;241m4\u001B[39m)\n\u001B[1;32m      6\u001B[0m detuning \u001B[38;5;241m=\u001B[39m array_variable(\u001B[38;5;124m\"\u001B[39m\u001B[38;5;124mdetuning\u001B[39m\u001B[38;5;124m\"\u001B[39m, \u001B[38;5;241m3\u001B[39m)\n",
      "\u001B[0;31mNameError\u001B[0m: name 'time_variable' is not defined"
     ]
    }
   ],
   "execution_count": 18
  },
  {
   "cell_type": "code",
   "execution_count": 36,
   "metadata": {},
   "outputs": [
    {
     "data": {
      "text/plain": [
       "{Z[1]: 1.0, Z[1] * Z[2]: 2.0, X[3]: -1.0}"
      ]
     },
     "execution_count": 36,
     "metadata": {},
     "output_type": "execute_result"
    }
   ],
   "source": [
    "collect_operators(Z(1) + 2 * Z(1) * Z (2) - X(3))"
   ]
  }
 ],
 "metadata": {
  "kernelspec": {
   "display_name": "qadence2-expressions",
   "language": "python",
   "name": "python3"
  },
  "language_info": {
   "codemirror_mode": {
    "name": "ipython",
    "version": 3
   },
   "file_extension": ".py",
   "mimetype": "text/x-python",
   "name": "python",
   "nbconvert_exporter": "python",
   "pygments_lexer": "ipython3",
   "version": "3.10.14"
  }
 },
 "nbformat": 4,
 "nbformat_minor": 2
}
