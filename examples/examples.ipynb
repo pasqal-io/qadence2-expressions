{
 "cells": [
  {
   "cell_type": "code",
   "execution_count": 1,
   "metadata": {},
   "outputs": [],
   "source": [
    "from numpy import pi\n",
    "\n",
    "from qadence2_expressions import *\n",
    "from qadence2_expressions.transform import collect_operators"
   ]
  },
  {
   "cell_type": "markdown",
   "metadata": {},
   "source": [
    "## Basic symbol examples"
   ]
  },
  {
   "cell_type": "code",
   "execution_count": 2,
   "metadata": {},
   "outputs": [
    {
     "name": "stdout",
     "output_type": "stream",
     "text": [
      "a + a -> 2 a\n",
      "a - a -> 0\n",
      "a / a -> 1\n",
      "a + b -> a + b\n",
      "a / (2*b) -> 0.5 a b^-1\n",
      "a ** 0 -> 1\n",
      "a ** 1 -> a\n",
      "2 ** (a + b) -> 2^(a + b)\n"
     ]
    }
   ],
   "source": [
    "a = Symbol('a')\n",
    "b = Symbol('b')\n",
    "\n",
    "exprs = [\n",
    "    \"a + a\",\n",
    "    \"a - a\",\n",
    "    \"a / a\",\n",
    "    \"a + b\",\n",
    "    \"a / (2*b)\",\n",
    "    \"a ** 0\",\n",
    "    \"a ** 1\",\n",
    "    \"2 ** (a + b)\",\n",
    "]\n",
    "\n",
    "for expr in exprs:\n",
    "    print(expr, \"->\", eval(expr))"
   ]
  },
  {
   "cell_type": "markdown",
   "metadata": {},
   "source": [
    "Product of sums is automatically expanded."
   ]
  },
  {
   "cell_type": "code",
   "execution_count": 3,
   "metadata": {},
   "outputs": [
    {
     "data": {
      "text/plain": [
       "a^2 + 2 b a + b^2"
      ]
     },
     "execution_count": 3,
     "metadata": {},
     "output_type": "execute_result"
    }
   ],
   "source": [
    "(a + b) * (a + b)"
   ]
  },
  {
   "cell_type": "markdown",
   "metadata": {},
   "source": [
    "However, power of sums are not automatically expanded to prioritise simplifications with respect to power."
   ]
  },
  {
   "cell_type": "code",
   "execution_count": 4,
   "metadata": {},
   "outputs": [
    {
     "data": {
      "text/plain": [
       "(a + b)^2"
      ]
     },
     "execution_count": 4,
     "metadata": {},
     "output_type": "execute_result"
    }
   ],
   "source": [
    "(a + b) * (a + b) ** 2 / (a + b)"
   ]
  },
  {
   "cell_type": "markdown",
   "metadata": {},
   "source": [
    "Minimal replace function. This functions still under development and may not present the expected behaviour."
   ]
  },
  {
   "cell_type": "code",
   "execution_count": 5,
   "metadata": {},
   "outputs": [
    {
     "data": {
      "text/plain": [
       "(a + b, a + 2 cos(a + b)^2, 2 + 2 cos(2 + b)^2)"
      ]
     },
     "execution_count": 5,
     "metadata": {},
     "output_type": "execute_result"
    }
   ],
   "source": [
    "x = a + b\n",
    "y = a + 2 * cos(x) ** 2\n",
    "z = replace(y, {a: 2})\n",
    "x, y, z"
   ]
  },
  {
   "cell_type": "code",
   "execution_count": 6,
   "metadata": {},
   "outputs": [
    {
     "data": {
      "text/plain": [
       "4.0"
      ]
     },
     "execution_count": 6,
     "metadata": {},
     "output_type": "execute_result"
    }
   ],
   "source": [
    "replace(z, {b: pi - 2})"
   ]
  },
  {
   "cell_type": "markdown",
   "metadata": {},
   "source": [
    "Besides values, symbols can also be replaced by other symbols or expression."
   ]
  },
  {
   "cell_type": "code",
   "execution_count": 7,
   "metadata": {},
   "outputs": [
    {
     "data": {
      "text/plain": [
       "2 b + 2 cos(2 b + a)^2"
      ]
     },
     "execution_count": 7,
     "metadata": {},
     "output_type": "execute_result"
    }
   ],
   "source": [
    "replace(y, {a: 2*b, b: a})"
   ]
  },
  {
   "cell_type": "markdown",
   "metadata": {},
   "source": [
    "Entire terms of expression can also be replaced"
   ]
  },
  {
   "cell_type": "code",
   "execution_count": 8,
   "metadata": {},
   "outputs": [
    {
     "data": {
      "text/plain": [
       "a + 2 cos(2 b)^2"
      ]
     },
     "execution_count": 8,
     "metadata": {},
     "output_type": "execute_result"
    }
   ],
   "source": [
    "replace(y, {b+a: 2*b})"
   ]
  },
  {
   "cell_type": "markdown",
   "metadata": {},
   "source": [
    "## Quantum operators"
   ]
  },
  {
   "cell_type": "markdown",
   "metadata": {},
   "source": [
    "The `QSymbol` class allows to create arbitrary quantum operators as SU group element.\n",
    "\n",
    "A `QSymbol` object is a callable object whose the arguments are the indices to what the operators are applied. For instance, `X(1)` is an `X` acting on qubit 1 while `H(1, 3)` indicates a Hadamard gate is applied to qubits 1 and 3. When no index is provide, like in `Z()` than it spans the gate to all qubits (regarding the number of qubits)."
   ]
  },
  {
   "cell_type": "code",
   "execution_count": 9,
   "metadata": {},
   "outputs": [],
   "source": [
    "# Simple Hermitian operators\n",
    "X = QSymbol('X')\n",
    "Y = QSymbol('Y')\n",
    "Z = QSymbol('Z')\n",
    "SWAP = QSymbol('SWAP')"
   ]
  },
  {
   "cell_type": "code",
   "execution_count": 10,
   "metadata": {},
   "outputs": [
    {
     "data": {
      "text/plain": [
       "X[2] Y[*] Z[1,2]"
      ]
     },
     "execution_count": 10,
     "metadata": {},
     "output_type": "execute_result"
    }
   ],
   "source": [
    "X(2) * Y() * Z(1,2)"
   ]
  },
  {
   "cell_type": "markdown",
   "metadata": {},
   "source": [
    "By default `QSymbols` are assumed Hermitian, non-hermitian operations can be set as so."
   ]
  },
  {
   "cell_type": "code",
   "execution_count": 12,
   "metadata": {},
   "outputs": [
    {
     "name": "stdout",
     "output_type": "stream",
     "text": [
      "RX(0.5)() * RX(0.5)() -> Rx(1.0)[*]\n",
      "RX(0.5)() * RX(0.5)().dag -> 1\n",
      "RX(0.5)() * RX(1.5)().dag -> Rx(-1.0)[*]\n",
      "RX(0.5)(1) * RX(0.5)(2).dag -> Rx(0.5)[1] Rx'(0.5)[2]\n"
     ]
    }
   ],
   "source": [
    "RX = lambda angle : QSymbol('Rx', angle, is_hermitian=False)\n",
    "\n",
    "exprs = [\n",
    "    \"RX(0.5)() * RX(0.5)()\",\n",
    "    \"RX(0.5)() * RX(0.5)().dag\",\n",
    "    \"RX(0.5)() * RX(1.5)().dag\",\n",
    "    \"RX(0.5)(1) * RX(0.5)(2).dag\",\n",
    "]\n",
    "\n",
    "for expr in exprs:\n",
    "    print(expr, \"->\", eval(expr))"
   ]
  },
  {
   "cell_type": "markdown",
   "metadata": {},
   "source": [
    "**TO BE REPLACED**\n",
    "By default the order of the indices doesn't matter, but it can set on to construct controlled gates like the following."
   ]
  },
  {
   "cell_type": "code",
   "execution_count": 16,
   "metadata": {},
   "outputs": [
    {
     "data": {
      "text/plain": [
       "(1, CNOT[1,2] CNOT[2,1])"
      ]
     },
     "execution_count": 16,
     "metadata": {},
     "output_type": "execute_result"
    }
   ],
   "source": [
    "CNOT = QSymbol('CNOT', ordered_support=True)\n",
    "\n",
    "CNOT(1, 2) * CNOT(1, 2), CNOT(1, 2) * CNOT(2, 1)"
   ]
  },
  {
   "cell_type": "code",
   "execution_count": 18,
   "metadata": {},
   "outputs": [
    {
     "data": {
      "text/plain": [
       "0.5 cos(a) + 0.5j sin(a) X[*] Y[*]"
      ]
     },
     "execution_count": 18,
     "metadata": {},
     "output_type": "execute_result"
    }
   ],
   "source": [
    "X * (cos(a) * X + 1j * sin(a) * Y) / 2"
   ]
  },
  {
   "cell_type": "code",
   "execution_count": 19,
   "metadata": {},
   "outputs": [
    {
     "data": {
      "text/plain": [
       "0.5 cos(a) X[1] X[*] Z[1] + 0.5j sin(a) X[1] Y[*] Z[1]"
      ]
     },
     "execution_count": 19,
     "metadata": {},
     "output_type": "execute_result"
    }
   ],
   "source": [
    "X(1) * (cos(a) * X() + 1j * sin(a) * Y()) * Z(1) / 2"
   ]
  },
  {
   "cell_type": "code",
   "execution_count": 20,
   "metadata": {},
   "outputs": [
    {
     "data": {
      "text/plain": [
       "CNOT[1,2] X[3] Z[3] Y[4] Y[5,4]"
      ]
     },
     "execution_count": 20,
     "metadata": {},
     "output_type": "execute_result"
    }
   ],
   "source": [
    "Y(4) * X(3) * Y(5,4) * CNOT(1,2) * Z(3)"
   ]
  },
  {
   "cell_type": "code",
   "execution_count": 22,
   "metadata": {},
   "outputs": [
    {
     "data": {
      "text/plain": [
       "0.5 + a X[0] + -b Z[0] + -0.5 Z[1] + -0.25 Z[0] + 0.25 Z[0] Z[1] + a X[1] + -b Z[1] + -0.25 Z[2] + 0.25 Z[1] Z[2]"
      ]
     },
     "execution_count": 22,
     "metadata": {},
     "output_type": "execute_result"
    }
   ],
   "source": [
    "nn = lambda k, l: (1 - Z(k)) * (1 - Z(l)) / 4\n",
    "sum(a * X(i) - b * Z(i) + nn(i, i + 1) for i in range(2))"
   ]
  },
  {
   "cell_type": "markdown",
   "metadata": {},
   "source": [
    "As an experimental feature, the `replace` functions can also used with `QSymbols`."
   ]
  },
  {
   "cell_type": "code",
   "execution_count": 23,
   "metadata": {},
   "outputs": [
    {
     "data": {
      "text/plain": [
       "2 exp(X[1]) exp(X[2])"
      ]
     },
     "execution_count": 23,
     "metadata": {},
     "output_type": "execute_result"
    }
   ],
   "source": [
    "z = 2 * exp(X(1) + X(2))\n",
    "replace(z, {exp(X(1) + X(2)): exp(X(1)) * exp(X(2))})"
   ]
  },
  {
   "cell_type": "markdown",
   "metadata": {},
   "source": [
    "It's possible to capture the coeficient to the `QSymbols` in an expression using the `collect_operators` function."
   ]
  },
  {
   "cell_type": "code",
   "execution_count": 24,
   "metadata": {},
   "outputs": [
    {
     "data": {
      "text/plain": [
       "{Z[0] Z[1]: 1 + -cos(a), Z[1] Z[2]: -1j sin(a), Z[1]: 1}"
      ]
     },
     "execution_count": 24,
     "metadata": {},
     "output_type": "execute_result"
    }
   ],
   "source": [
    "h1 = Z(0) * Z(1)\n",
    "h2 = Z(1) * Z(2)\n",
    "h3 = cos(a) * h1 + 1j * sin(a) * h2\n",
    "h4 = h1 - h3 + Z(1)\n",
    "\n",
    "collect_operators(h4)"
   ]
  }
 ],
 "metadata": {
  "kernelspec": {
   "display_name": "qadence2-expressions",
   "language": "python",
   "name": "python3"
  },
  "language_info": {
   "codemirror_mode": {
    "name": "ipython",
    "version": 3
   },
   "file_extension": ".py",
   "mimetype": "text/x-python",
   "name": "python",
   "nbconvert_exporter": "python",
   "pygments_lexer": "ipython3",
   "version": "3.10.14"
  }
 },
 "nbformat": 4,
 "nbformat_minor": 2
}
