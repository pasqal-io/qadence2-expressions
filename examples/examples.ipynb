{
 "cells": [
  {
   "cell_type": "code",
   "execution_count": 1,
   "metadata": {},
   "outputs": [],
   "source": [
    "# %xmode Minimal\n",
    "\n",
    "from qadence2_expressions import *"
   ]
  },
  {
   "cell_type": "markdown",
   "metadata": {},
   "source": [
    "## Basic symbol examples"
   ]
  },
  {
   "cell_type": "code",
   "execution_count": 2,
   "metadata": {},
   "outputs": [
    {
     "name": "stdout",
     "output_type": "stream",
     "text": [
      "a + a -> 2.0 a\n",
      "a - a -> 0.0\n",
      "a / a -> 1.0\n",
      "a + b -> a + b\n",
      "a / (2*b) -> a (2.0 b) ^ -1.0\n",
      "a ** 0 -> 1.0\n",
      "a ** 1 -> a\n",
      "2 ** (a + b) -> 2.0 ^ (a + b)\n"
     ]
    }
   ],
   "source": [
    "a = parameter('a')\n",
    "b = parameter('b')\n",
    "\n",
    "exprs = [\n",
    "    \"a + a\",\n",
    "    \"a - a\",\n",
    "    \"a / a\",\n",
    "    \"a + b\",\n",
    "    \"a / (2*b)\",\n",
    "    \"a ** 0\",\n",
    "    \"a ** 1\",\n",
    "    \"2 ** (a + b)\",\n",
    "]\n",
    "\n",
    "for expr in exprs:\n",
    "    print(expr, \"->\", eval(expr))"
   ]
  },
  {
   "cell_type": "markdown",
   "metadata": {},
   "source": [
    "Product of sums is automatically expanded."
   ]
  },
  {
   "cell_type": "code",
   "execution_count": 3,
   "metadata": {},
   "outputs": [
    {
     "data": {
      "text/plain": [
       "a ^ 2.0 + 2.0 a b + b ^ 2.0"
      ]
     },
     "execution_count": 3,
     "metadata": {},
     "output_type": "execute_result"
    }
   ],
   "source": [
    "(a + b) * (a + b)"
   ]
  },
  {
   "cell_type": "markdown",
   "metadata": {},
   "source": [
    "However, power of sums are not automatically expanded to prioritise simplifications with respect to power."
   ]
  },
  {
   "cell_type": "code",
   "execution_count": 4,
   "metadata": {},
   "outputs": [
    {
     "data": {
      "text/plain": [
       "(a + b) ^ 2.0"
      ]
     },
     "execution_count": 4,
     "metadata": {},
     "output_type": "execute_result"
    }
   ],
   "source": [
    "(a + b) * (a + b) ** 2 / (a + b)"
   ]
  },
  {
   "cell_type": "markdown",
   "metadata": {},
   "source": [
    "## Quantum operators"
   ]
  },
  {
   "cell_type": "code",
   "execution_count": 5,
   "metadata": {},
   "outputs": [
    {
     "data": {
      "text/plain": [
       "X[2] Y[*] Z[1 2]"
      ]
     },
     "execution_count": 5,
     "metadata": {},
     "output_type": "execute_result"
    }
   ],
   "source": [
    "X(2) * Y() * Z(1,2)"
   ]
  },
  {
   "cell_type": "code",
   "execution_count": 6,
   "metadata": {},
   "outputs": [],
   "source": [
    "# Simple Hermitian operators\n",
    "CZ = unitary_hermitian_operator('CZ')\n",
    "NOT = unitary_hermitian_operator('NOT')"
   ]
  },
  {
   "cell_type": "code",
   "execution_count": 7,
   "metadata": {},
   "outputs": [
    {
     "data": {
      "text/plain": [
       "NOT[2; 1] NOT[1; 2]"
      ]
     },
     "execution_count": 7,
     "metadata": {},
     "output_type": "execute_result"
    }
   ],
   "source": [
    "NOT(control=(1,), target=(2,)) * NOT(target=(1,), control=(2,))"
   ]
  },
  {
   "cell_type": "code",
   "execution_count": 8,
   "metadata": {},
   "outputs": [
    {
     "data": {
      "text/plain": [
       "0.5 cos(a) + 0.5j sin(a) X[*] Y[*]"
      ]
     },
     "execution_count": 8,
     "metadata": {},
     "output_type": "execute_result"
    }
   ],
   "source": [
    "X() * (cos(a) * X() + 1j * sin(a) * Y()) / 2"
   ]
  },
  {
   "cell_type": "code",
   "execution_count": 9,
   "metadata": {},
   "outputs": [
    {
     "data": {
      "text/plain": [
       "0.5 cos(a) X[1] X[*] Z[1] + 0.5j sin(a) X[1] Y[*] Z[1]"
      ]
     },
     "execution_count": 9,
     "metadata": {},
     "output_type": "execute_result"
    }
   ],
   "source": [
    "X(1) * (cos(a) * X() + 1j * sin(a) * Y()) * Z(1) / 2"
   ]
  },
  {
   "cell_type": "code",
   "execution_count": 10,
   "metadata": {},
   "outputs": [
    {
     "data": {
      "text/plain": [
       "NOT[2; 1] X[3] Z[3] Y[4] Y[4 5]"
      ]
     },
     "execution_count": 10,
     "metadata": {},
     "output_type": "execute_result"
    }
   ],
   "source": [
    "CNOT = lambda ctrl, tgt: NOT(target=(tgt,), control=(ctrl,))\n",
    "\n",
    "Y(4) * X(3) * Y(5,4) * CNOT(1,2) * Z(3)"
   ]
  },
  {
   "cell_type": "code",
   "execution_count": 11,
   "metadata": {},
   "outputs": [
    {
     "data": {
      "text/plain": [
       "0.25 + a X[0] - b Z[0] - 0.25 Z[1] - 0.25 Z[0] + 0.25 Z[0] Z[1]"
      ]
     },
     "execution_count": 11,
     "metadata": {},
     "output_type": "execute_result"
    }
   ],
   "source": [
    "n = lambda k: (1 - Z(k)) / 2\n",
    "\n",
    "sum(a * X(i) - b * Z(i) + n(i) * n(i + 1) for i in range(1))"
   ]
  },
  {
   "cell_type": "code",
   "execution_count": 12,
   "metadata": {},
   "outputs": [
    {
     "data": {
      "text/plain": [
       "RX(0.5 phi)[1] RX(-0.5 phi)[2]"
      ]
     },
     "execution_count": 12,
     "metadata": {},
     "output_type": "execute_result"
    }
   ],
   "source": [
    "phi = variable(\"phi\")\n",
    "\n",
    "RX(phi / 2)(1) * RX(- phi / 2)(2)"
   ]
  },
  {
   "cell_type": "code",
   "execution_count": 13,
   "metadata": {},
   "outputs": [
    {
     "data": {
      "text/plain": [
       "1.0"
      ]
     },
     "execution_count": 13,
     "metadata": {},
     "output_type": "execute_result"
    }
   ],
   "source": [
    "RX(phi / 2)(1) * RX(- phi / 2)(1)"
   ]
  },
  {
   "cell_type": "markdown",
   "metadata": {},
   "source": [
    "## IR compilation"
   ]
  },
  {
   "cell_type": "code",
   "execution_count": 14,
   "metadata": {},
   "outputs": [
    {
     "data": {
      "text/plain": [
       "Model(\n",
       "  register=AllocQubits(\n",
       "    num_qubits=3,\n",
       "    qubit_positions=[],\n",
       "    grid_type=None,\n",
       "    grid_scale=1.0,\n",
       "    options={},\n",
       "  ),\n",
       "  inputs={\n",
       "    'a': Alloc(1, trainable=False),\n",
       "    'phi': Alloc(1, trainable=True),\n",
       "    'b': Alloc(1, trainable=False),\n",
       "  },\n",
       "  instructions=[\n",
       "    Assign('%0', Call('mul', 0.5, Load('a'))),\n",
       "    Assign('%1', Call('mul', Load('%0'), Load('phi'))),\n",
       "    QuInstruct('rx', Support(target=(2,)), Load('%1')),\n",
       "    QuInstruct('cz', Support.target_all()),\n",
       "    Assign('%2', Call('mul', 0.5, Load('b'))),\n",
       "    Assign('%3', Call('mul', Load('%2'), Load('phi'))),\n",
       "    QuInstruct('ry', Support(target=(0,)), Load('%3')),\n",
       "  ],\n",
       "  directives={},\n",
       "  settings={},\n",
       ")"
      ]
     },
     "execution_count": 14,
     "metadata": {},
     "output_type": "execute_result"
    }
   ],
   "source": [
    "expr = RX(a * phi / 2)(2) * CZ() * RY(b * phi / 2)(0)\n",
    "\n",
    "irc(expr)"
   ]
  },
  {
   "cell_type": "code",
   "execution_count": 15,
   "metadata": {},
   "outputs": [
    {
     "data": {
      "text/plain": [
       "Model(\n",
       "  register=AllocQubits(\n",
       "    num_qubits=3,\n",
       "    qubit_positions=[(-2, 1), (0, 0), (3, 1)],\n",
       "    grid_type=None,\n",
       "    grid_scale=1.0,\n",
       "    options={},\n",
       "  ),\n",
       "  inputs={\n",
       "    'a': Alloc(1, trainable=False),\n",
       "    'phi': Alloc(1, trainable=True),\n",
       "    'b': Alloc(1, trainable=False),\n",
       "  },\n",
       "  instructions=[\n",
       "    Assign('%0', Call('mul', 0.5, Load('a'))),\n",
       "    Assign('%1', Call('mul', Load('%0'), Load('phi'))),\n",
       "    QuInstruct('rx', Support(target=(2,)), Load('%1')),\n",
       "    QuInstruct('cz', Support.target_all()),\n",
       "    Assign('%2', Call('mul', 0.5, Load('b'))),\n",
       "    Assign('%3', Call('mul', Load('%2'), Load('phi'))),\n",
       "    QuInstruct('ry', Support(target=(0,)), Load('%3')),\n",
       "  ],\n",
       "  directives={},\n",
       "  settings={},\n",
       ")"
      ]
     },
     "execution_count": 15,
     "metadata": {},
     "output_type": "execute_result"
    }
   ],
   "source": [
    "set_qubits_positions([(-2, 1), (0, 0), (3, 1)])\n",
    "irc(expr)"
   ]
  },
  {
   "cell_type": "code",
   "execution_count": 16,
   "metadata": {},
   "outputs": [
    {
     "data": {
      "text/plain": [
       "Model(\n",
       "  register=AllocQubits(\n",
       "    num_qubits=4,\n",
       "    qubit_positions=[(-1, 0), (-1, 1), (1, 0), (1, 1)],\n",
       "    grid_type=triangular,\n",
       "    grid_scale=1.0,\n",
       "    options={},\n",
       "  ),\n",
       "  inputs={\n",
       "    't': Alloc(1, trainable=True),\n",
       "    'omega': Alloc(4, trainable=True),\n",
       "    'detuning': Alloc(3, trainable=True),\n",
       "    'phase': Alloc(1, trainable=False),\n",
       "  },\n",
       "  instructions=[\n",
       "    Assign('%0', Call('mul', 0.5, Load('t'))),\n",
       "    QuInstruct('dyn_pulse', Support.target_all(), Load('%0'), Load('omega'), Load('detuning'), Load('phase')),\n",
       "    QuInstruct('dyn_wait', Support.target_all(), 2.5),\n",
       "    Assign('%1', Call('mul', -1.0, Load('detuning'))),\n",
       "    QuInstruct('dyn_pulse', Support.target_all(), Load('%0'), Load('omega'), Load('%1'), Load('phase')),\n",
       "  ],\n",
       "  directives={},\n",
       "  settings={},\n",
       ")"
      ]
     },
     "execution_count": 16,
     "metadata": {},
     "output_type": "execute_result"
    }
   ],
   "source": [
    "set_qubits_positions([(-1,0), (-1, 1), (1, 0), (1, 1)])\n",
    "set_grid_type(\"triangular\")\n",
    "\n",
    "t = time_variable(\"t\")\n",
    "omega = array_variable(\"omega\", 4)\n",
    "detuning = array_variable(\"detuning\", 3)\n",
    "phase = parameter(\"phase\")\n",
    "\n",
    "expr = (\n",
    "    NativeDriven(t / 2, omega, detuning, phase)()\n",
    "    * FreeEvolution(2.5)()\n",
    "    * NativeDriven(t / 2, omega, -detuning, phase)()\n",
    ")\n",
    "\n",
    "irc(expr)"
   ]
  }
 ],
 "metadata": {
  "kernelspec": {
   "display_name": "qadence2-expressions",
   "language": "python",
   "name": "python3"
  },
  "language_info": {
   "codemirror_mode": {
    "name": "ipython",
    "version": 3
   },
   "file_extension": ".py",
   "mimetype": "text/x-python",
   "name": "python",
   "nbconvert_exporter": "python",
   "pygments_lexer": "ipython3",
   "version": "3.10.14"
  }
 },
 "nbformat": 4,
 "nbformat_minor": 2
}
